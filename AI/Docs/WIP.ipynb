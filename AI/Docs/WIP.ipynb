{
 "cells": [
  {
   "cell_type": "markdown",
   "metadata": {},
   "source": [
    "install the ollama everything\n",
    "\n",
    "docker exec -it ollama ollama pull llava\n",
    "\n",
    "ollama run llava:7b"
   ]
  }
 ],
 "metadata": {
  "language_info": {
   "name": "python"
  }
 },
 "nbformat": 4,
 "nbformat_minor": 2
}
