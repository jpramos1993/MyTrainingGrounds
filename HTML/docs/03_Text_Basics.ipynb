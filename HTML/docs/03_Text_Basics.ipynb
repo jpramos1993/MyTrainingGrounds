{
 "cells": [
  {
   "cell_type": "markdown",
   "metadata": {},
   "source": [
    "block level elements\n",
    "headers are represented by <hX></hX>\n",
    "<p></p> Are paragraphs\n",
    "\n",
    "<hr> horizontal line\n",
    "<br> break line\n",
    "\n",
    "inline elements\n",
    "<em></em> italic\n",
    "<strong></strong> bold\n",
    "\n",
    "entities\n",
    "&nbsp; => identation\n",
    "&lt; => less than symbol\n",
    "&gt; => greater than\n",
    "&copy; => Copyright symbol\n",
    "\n",
    "\n",
    "<abbr title=\"Mozilla Developer Network\">MDN</abbr>\n",
    "\n",
    "        <address>\n",
    "            Margaritaville Island Reserve Riviera Cancún<br>\n",
    "            Bahia Petempich Puerto Morelos, Mexico<br>\n",
    "            Colonia Morelos, México 77580<br>\n",
    "        </address>\n",
    "\n",
    "        <!-- Comments --> "
   ]
  }
 ],
 "metadata": {
  "language_info": {
   "name": "python"
  }
 },
 "nbformat": 4,
 "nbformat_minor": 2
}
