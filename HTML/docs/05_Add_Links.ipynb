{
 "cells": [
  {
   "cell_type": "markdown",
   "id": "d530e10b",
   "metadata": {},
   "source": [
    "Links things via hypertext linking web pages together\n",
    "\n",
    "<link> </link> => connects to resources\n",
    "<a href=\"https://developer.mozilla.org/en-US/\"></a> => anchor tag\n",
    "\n",
    "it can you absolute references but also relative references\n",
    "\n",
    "Lorem * x can be used to fill up texto with lorem text\n",
    "\n",
    "<section id=\"id\"></section> can create destination\n",
    "\n",
    "<nav href=\"#id\"></nav> => Allows navegation between links\n",
    "using href as =\"#\" makes you go back to the top\n",
    "\n",
    "in <a download> it allows the user to download the information in the link\n",
    "\n",
    "<a href=\"mailto:xxx@xxx.xx\"> => this is not encouraged due to crawlers, prefer to use forms\n",
    "<a href=\"tel:+213 1313213\"> => phone number\n",
    "\n",
    "<a href=\"https://www.google.com\" target\"_blank\">Google</a> in a new tab\n",
    "\n",
    " <a href=\"/\">Home</a> => back to home"
   ]
  }
 ],
 "metadata": {
  "language_info": {
   "name": "python"
  }
 },
 "nbformat": 4,
 "nbformat_minor": 5
}
