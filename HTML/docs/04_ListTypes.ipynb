{
 "cells": [
  {
   "cell_type": "markdown",
   "metadata": {},
   "source": [
    "Types of List:\n",
    "- Ordered List\n",
    "- Unordered List\n",
    "- Description List\n",
    "\n",
    "<ol>\n",
    "    <li></li>\n",
    "</ol>\n",
    "\n",
    "<ul>\n",
    "    <li></li>\n",
    "</ul>\n",
    "\n",
    "dt and dd are indented according to its item\n",
    "<dl>\n",
    "    <dt></dt> => Description Term\n",
    "    <dd></dd> => Description Details\n",
    "</dl>\n",
    "\n",
    "\n"
   ]
  }
 ],
 "metadata": {
  "language_info": {
   "name": "python"
  }
 },
 "nbformat": 4,
 "nbformat_minor": 2
}
