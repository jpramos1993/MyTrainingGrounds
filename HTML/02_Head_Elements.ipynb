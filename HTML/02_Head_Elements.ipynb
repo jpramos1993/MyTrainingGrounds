{
 "cells": [
  {
   "cell_type": "markdown",
   "metadata": {},
   "source": [
    "<center><h1><b>Head Elements</b></h1></center>\n",
    "\n",
    "Head Elements are elements that are located inside the head element.\n",
    "They represent elements that are not displayed in the website visual structure, and are used to provide metadata, load resources, among other features.\n",
    "\n",
    "<h2>Metadata Elements</h2>\n",
    "\n",
    "Metada Elements represent information of the website we are providing, they are important for search engines to improve site searchability\n",
    "\n",
    "Metadata can be placed inside the head as the following:\n",
    "```html\n",
    "<head>\n",
    "    <meta name=\"author\" content=\"Unknown\">\n",
    "    <meta name=\"description\" content=\"This page contains all the thins I am learning how to create as I learn HTML\">\n",
    "</head>\n",
    "```\n",
    "\n",
    "<h2>Link</h2>\n",
    "\n",
    "The link elements are used to load resources, CSS styling and other valuable resource links\n",
    "\n",
    "To load images, in this case a icon, it can be loaded using the following:\n",
    "- This will change the icon for the website\n",
    "```html\n",
    "<head>\n",
    "    <link rel=\"icon\" href=\"html5.png\" type=\"image/x-icon\">\n",
    "</head>\n",
    "```\n",
    "\n",
    "In a similar fashion the CSS files can be loaded using the following:\n",
    "- In this case the css styling applied in previous example was switched to main.css and loaded using the following\n",
    "```html\n",
    "<head>\n",
    "    <link rel=\"stylesheet\" href=\"main.css\" type=\"text/css\">\n",
    "</head>\n",
    "```\n",
    "\n",
    "After performing the changes validate the file for errors using the provided validator "
   ]
  }
 ],
 "metadata": {
  "language_info": {
   "name": "python"
  }
 },
 "nbformat": 4,
 "nbformat_minor": 2
}
