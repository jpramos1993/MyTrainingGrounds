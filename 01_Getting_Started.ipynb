{
 "cells": [
  {
   "cell_type": "markdown",
   "metadata": {},
   "source": [
    "<h1>Getting Started</h1>\n",
    "\n",
    "Definition: HTML stands for <b>HyperText Markup Language</b>"
   ]
  },
  {
   "cell_type": "markdown",
   "metadata": {},
   "source": [
    "<h2>Important tools to know</h2>\n",
    "\n",
    "<h3>Validation</h3>\n",
    "\n",
    "W3C Validator can be accessed via: https://validator.w3.org/ \n",
    "It allows html files to be uploaded and processed resulting in warnings and errors that provide insights into best practices\n",
    "\n",
    "<h3>Going Live</h3>\n",
    "\n",
    "In order to better work with HTML, visual studio live server extensions should be used.\n",
    "This allows us to run/stop the server at will from the bottom right of the screen"
   ]
  },
  {
   "cell_type": "markdown",
   "metadata": {},
   "source": [
    "<h2>Structure</h2>\n",
    "\n",
    "HTML Websites are started from the initial page/file index.html\n",
    "The visual aspect of the file will be related to the contents of this file\n",
    "\n",
    "HTML is composed by elements and attributes that can be associated to the elements, that can be represented by:\n",
    "- Elements\n",
    "```html\n",
    "<element>\n",
    "<element></element>\n",
    "```\n",
    "- Attributes\n",
    "```html\n",
    "<element attribute_name=\"attribute_value\">\n",
    "```\n",
    "\n",
    "From these we can create our websites, where they are surronded by the main element:\n",
    "```html\n",
    "<html>\n",
    "    \n",
    "</html>\n",
    "```\n",
    "That is structured into two main sections, the head and body:\n",
    "```html\n",
    "<html>\n",
    "    <head>\n",
    "\n",
    "    </head>\n",
    "\n",
    "    <body>\n",
    "        \n",
    "    </body>\n",
    "</html>\n",
    "```\n",
    "where:\n",
    "- head: is used to represent the website metada\n",
    "- body: is used to define the website elements"
   ]
  },
  {
   "cell_type": "markdown",
   "metadata": {},
   "source": [
    "<h2>First Step</h2>\n",
    "\n",
    "Create a index.html.\n",
    "Its important to note that file notation should be lower case since otherwise it might cause conflicts when integrating with webservices\n",
    "with the index file created we can introduce our base structure:\n",
    "```html\n",
    "<html>\n",
    "    <head>\n",
    "\n",
    "    </head>\n",
    "\n",
    "    <body>\n",
    "        \n",
    "    </body>\n",
    "</html>\n",
    "```\n",
    "And start up by defining a title using the title element\n",
    "\n",
    "<h3>Title Element</h3>\n",
    "\n",
    "Defines the title in website metadata, which is shown in title tab.\n",
    "```html\n",
    "...\n",
    "    <head>\n",
    "        <title>My First Website</title>\n",
    "    </head>\n",
    "...\n",
    "```"
   ]
  },
  {
   "cell_type": "markdown",
   "metadata": {},
   "source": [
    "<h3>Header Elements</h3>\n",
    "\n",
    "Header elements represent section titles and are defined using the element ```<hX>```, resulting in the following headers\n",
    "\n",
    "```<h1>``` => <h1>Header 01</h1>\n",
    "```<h2>``` => <h2>Header 02</h2>\n",
    "```<h3>``` => <h3>Header 03</h3>\n",
    "```<h4>``` => <h4>Header 04</h4>\n",
    "```<h5>``` => <h5>Header 05</h5>\n",
    "```<h6>``` => <h6>Header 06</h6>"
   ]
  },
  {
   "cell_type": "markdown",
   "metadata": {},
   "source": [
    "<h3>Paragraphg Element</h3>\n",
    "\n",
    "Represents a paragraph in our website and is represented by the element ```<p>```\n",
    "```html\n",
    "<p>First Paragraph</p>\n",
    "<p>Second Paragraph</p>\n",
    "```\n",
    "which visually represent:\n",
    "<p>First Paragraph</p>\n",
    "<p>Second Paragraph</p>"
   ]
  },
  {
   "cell_type": "markdown",
   "metadata": {},
   "source": [
    "<h3>Comment Element</h3>\n",
    "\n",
    "Allows for the introduction of comments inside our HTML and its represented by ```<!-- -->```\n",
    "\n",
    "```html\n",
    "<!-- This is and example of a comment -->\n",
    "```"
   ]
  },
  {
   "cell_type": "markdown",
   "metadata": {},
   "source": [
    "<h3>A little CSS</h3>\n",
    "\n",
    "Just a little CSS in order to allow some styling to our website (Transform it into dark mode)\n",
    "\n",
    "...\n",
    "```html\n",
    "<head>\n",
    "    <style>\n",
    "            html {\n",
    "                font-size: 22px => Sets font size to 22\n",
    "            }\n",
    "\n",
    "            body {\n",
    "                background-color: #333; => Sets background color to almost black =>\n",
    "                color: whitesmoke => Sets forground color to whitesmoke\n",
    "            }\n",
    "    </style>\n",
    "</head>\n",
    "```\n",
    "..."
   ]
  },
  {
   "cell_type": "markdown",
   "metadata": {},
   "source": [
    "<h2>Some best practices</h2>\n",
    "\n",
    "Using the validator it was identified several warnings and errors that should be addressed in order to follow best implementations.\n",
    "\n",
    "<h4>Lang</h4>\n",
    "\n",
    "Introduce lang attribute to the website which defines the language of the website at hand\n",
    "\n",
    "...\n",
    "```html\n",
    "    <html lang=\"en\">\n",
    "```\n",
    "...\n",
    "\n",
    "<h4>Charset</h4>\n",
    "Introduces the character sets used in the website\n",
    "\n",
    "...\n",
    "```html\n",
    "    <head>\n",
    "        <meta charset=\"UTF-8\">\n",
    "    </head>\n",
    "```\n",
    "...\n",
    "\n",
    "<h4>DOCTYPE</h4>\n",
    "\n",
    "Defines the type of document we are working with\n",
    "\n",
    "...\n",
    "```html\n",
    "<!DOCTYPE html>\n",
    "<html>\n",
    "```\n",
    "...\n",
    "\n"
   ]
  }
 ],
 "metadata": {
  "kernelspec": {
   "display_name": "Python 3",
   "language": "python",
   "name": "python3"
  },
  "language_info": {
   "codemirror_mode": {
    "name": "ipython",
    "version": 3
   },
   "file_extension": ".py",
   "mimetype": "text/x-python",
   "name": "python",
   "nbconvert_exporter": "python",
   "pygments_lexer": "ipython3",
   "version": "3.11.9"
  }
 },
 "nbformat": 4,
 "nbformat_minor": 2
}
