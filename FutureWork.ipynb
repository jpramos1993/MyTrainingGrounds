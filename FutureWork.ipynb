{
 "cells": [
  {
   "cell_type": "markdown",
   "metadata": {},
   "source": [
    "Visual Studio Extensions\n",
    "Extensions\n",
    "vscode-icons\n",
    "github-theme => Set Color Theme\n",
    "live server => Right Click and Open Live Server"
   ]
  }
 ],
 "metadata": {
  "language_info": {
   "name": "python"
  }
 },
 "nbformat": 4,
 "nbformat_minor": 2
}
