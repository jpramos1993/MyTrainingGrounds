{
 "cells": [
  {
   "cell_type": "markdown",
   "metadata": {},
   "source": [
    "Implementing Slug based retrieval\n",
    "slug refers to a way to retrieve items based more on properties than on ids\n",
    "slugs should not have special chararacters and are usually split using \"-\"\n",
    "provide the slug in the response in order to be more easily accessible\n",
    "\n",
    "Regex has the ability to be faster when its compiled before time\n",
    "\n",
    "do a project with Regex and show how to compile the code with the pregenerated Regex\n",
    "\n",
    "in order to switch to a real database we need to create a docker compose file and then run the command on the terminal of the project with the docker compose\n",
    "docker compose up\n",
    "or if you are using podman\n",
    "podman compose up"
   ]
  }
 ],
 "metadata": {
  "language_info": {
   "name": "python"
  }
 },
 "nbformat": 4,
 "nbformat_minor": 2
}
