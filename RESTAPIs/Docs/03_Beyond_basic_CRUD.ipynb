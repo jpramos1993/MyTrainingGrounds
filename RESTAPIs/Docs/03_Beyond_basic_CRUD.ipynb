{
 "cells": [
  {
   "cell_type": "markdown",
   "metadata": {},
   "source": [
    "Implementing Slug based retrieval\n",
    "slug refers to a way to retrieve items based more on properties than on ids\n",
    "slugs should not have special chararacters and are usually split using \"-\"\n",
    "provide the slug in the response in order to be more easily accessible\n",
    "\n",
    "Regex has the ability to be faster when its compiled before time\n",
    "\n",
    "do a project with Regex and show how to compile the code with the pregenerated Regex\n",
    "\n",
    "in order to switch to a real database we need to create a docker compose file and then run the command on the terminal of the project with the docker compose\n",
    "docker compose up\n",
    "or if you are using podman\n",
    "podman compose up"
   ]
  },
  {
   "cell_type": "markdown",
   "metadata": {},
   "source": [
    "Go to resources in podman and install compose\n",
    "\n",
    "then compose in the project folder where the docker-compose.yml file is located\n",
    "\n",
    "introduce Data Sources in Visual studio\n",
    "\n",
    "Install dapper that will allows us to interact with the database\n",
    "npgsql to interact with post gres\n",
    "\n",
    "this should go on the application layer => API should not know about the database\n",
    "\n",
    "docker file should be on the solution level\n",
    "\n",
    "Server explorer install extension for postgres usage\n",
    "\n",
    "Lets now create the Database directory in the application layer\n",
    "with a interface for the DbConnection factory and lets create an implementation for the NpgsqlConnectionFactory which will be the specific connection to the postgres sql database\n",
    "\n",
    "introduce it to the extensions where a singleton can be used since its a singleton masked as a transient\n",
    "Grab the configurations from the Config from the builder and create the connection string required\n",
    "\n",
    "Since migrations are not going to be used we can create a DbInitializer\n",
    "\n",
    "Lets switch the IMovie Repository\n",
    "\n",
    "Dapper was used to switch from one implementation to the other\n",
    "\n",
    "Adding Business logic layer\n",
    "\n"
   ]
  }
 ],
 "metadata": {
  "language_info": {
   "name": "python"
  }
 },
 "nbformat": 4,
 "nbformat_minor": 2
}
