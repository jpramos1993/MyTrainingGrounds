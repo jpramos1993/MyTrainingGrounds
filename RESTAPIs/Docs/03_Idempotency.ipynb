{
 "cells": [
  {
   "cell_type": "markdown",
   "metadata": {},
   "source": [
    "<center><h1>Idempotency</h1></center>\n",
    "<hr>\n",
    "<hr>"
   ]
  },
  {
   "cell_type": "markdown",
   "metadata": {},
   "source": [
    "<b>Idempotency</b> is a property of certain HTTP methods that ensures multiple identical requests produce the same result as a single request. This is crucial for building reliable and predictable APIs, especially in distributed systems.\n",
    "\n",
    "<b>Key Concept</b>\n",
    "<ol>\n",
    "    <li>If a request is idempotent, sending it onde, twice, or multiple times has the same effect on the server as sending it once</li>\n",
    "    <li>This prevents unintended side effects from duplicate requests(e.g., due to network retries or client errors)</li>\n",
    "</ol>\n",
    "\n",
    "<b>Why Idempotency Matters</b>\n",
    "<ul>\n",
    "    <li><b>Reliability in Distributed Systems:</b> Prevents accidental duplication of actions (e.g., due to network retries).</li>\n",
    "    <li><b>Consistency in API Behavior:</b> Clients can safely retry requests without unintended consequences</li>\n",
    "    <li><b>Easier Debugging & Fault Tolerance:</b> Knowing that repeated requests won't cause issues simplifies error handling.</li>\n",
    "</ul>"
   ]
  }
 ],
 "metadata": {
  "language_info": {
   "name": "python"
  }
 },
 "nbformat": 4,
 "nbformat_minor": 2
}
