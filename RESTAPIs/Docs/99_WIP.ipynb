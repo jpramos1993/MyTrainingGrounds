{
 "cells": [
  {
   "cell_type": "markdown",
   "metadata": {},
   "source": [
    "Different type of errors\n",
    "Errors | Fault\n",
    "\n",
    "Errors = Invalid data => 400 => Bad Request => API is working fine\n",
    "\n",
    "Faults => API is bad => 500 => Request was valid but the server could not process it"
   ]
  },
  {
   "cell_type": "markdown",
   "metadata": {},
   "source": [
    "ACID"
   ]
  },
  {
   "cell_type": "markdown",
   "metadata": {},
   "source": [
    "Separation with business logic allows application to use a repository => service => controller to split responsabilities"
   ]
  },
  {
   "cell_type": "markdown",
   "metadata": {},
   "source": [
    "Fluent Validations advantages and how to use it"
   ]
  },
  {
   "cell_type": "markdown",
   "metadata": {},
   "source": [
    "Important to note that middleware is sequential"
   ]
  },
  {
   "cell_type": "markdown",
   "metadata": {},
   "source": [
    "Authentication and Authorization are completly different things\n",
    "\n",
    "Authentication is the process of verifying the user is\n",
    "Authorization is what the user can do\n",
    "\n",
    "Token is created from an external service usually\n",
    "\n",
    "Token is passed in every request to allow a stateless state\n",
    "\n",
    "What is a Json Web Token of jwt?\n",
    "jwt.io\n",
    "\n",
    "Split by a period\n",
    "=> Header\n",
    "=> Payload\n",
    "=> Signature\n",
    "\n",
    "Payload => Contains the data of the token\n",
    "=> What user can do by Claims\n",
    "Contains default properties and custom created ones\n",
    "\n",
    "Header => Type and alg to create the signature\n",
    "\n",
    "Signature => Proves authenticity => same signatures match its authentic\n",
    "\n",
    "A Json Generator project is provided that provides real looking jwt tokens\n",
    "\n",
    "Install Microsoft.AspNetCore.Authentication.JwtBearer\n",
    "\n"
   ]
  }
 ],
 "metadata": {
  "language_info": {
   "name": "python"
  }
 },
 "nbformat": 4,
 "nbformat_minor": 2
}
