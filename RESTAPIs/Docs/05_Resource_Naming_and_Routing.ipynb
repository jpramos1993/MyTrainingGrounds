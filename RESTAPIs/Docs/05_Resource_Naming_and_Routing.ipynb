{
 "cells": [
  {
   "cell_type": "markdown",
   "metadata": {},
   "source": [
    "<center><h2>Resource Naming and Routing</h2></center>\n",
    "<hr>\n",
    "<hr>"
   ]
  },
  {
   "cell_type": "markdown",
   "metadata": {},
   "source": [
    "<p>Proper resource naming and routing conventions improve API clarity, consistency, and usability.</p>\n",
    "<ul>\n",
    "    <li>\n",
    "        <b>Naming Conventions</b>\n",
    "        <ul>\n",
    "            <li>Resource names should be nouns, representing entities(e.g., movies, users, ratings)</li>\n",
    "            <li>Use <b>plural</b> names for collections to maintain consistency (e.g., /movies instead of /movie)</li>\n",
    "            <li>Keep names <b>simple and meaningful</b>, avoiding verbs (actions are determined by HTTP methods)</li>\n",
    "        </ul>\n",
    "    </li>\n",
    "    <li>\n",
    "        <b>Routing Patterns</b>\n",
    "        <p>A well-structured API follows predictable URL patterns for resource access:</p>\n",
    "        <ul>\n",
    "            <li><b>Retrieve a list of resources:</b> GET /movies (fetch all movies)</li>\n",
    "            <li><b>Retrieve a specific resource:</b> GET /movies/1 (fetch movie with ID 1)</li>\n",
    "            <li><b>Access related resources:</b> GET /movies/1/ratings (fetch ratings for movie 1)</li>\n",
    "            <li><b>Access user-specific resources:</b> GET /ratings/me (fetch the authenticated user's ratings)</li>\n",
    "            <li><b>Create a new resource:</b> POST /movies/1/ratings (add a rating for movie 1)</li>\n",
    "            <li><b>Delete a resource:</b> DELETE /movies/1/ratings (remove a rating for movie 1)</li>                         \n",
    "        </ul>\n",
    "    </li>\n",
    "</ul>"
   ]
  }
 ],
 "metadata": {
  "language_info": {
   "name": "python"
  }
 },
 "nbformat": 4,
 "nbformat_minor": 2
}
