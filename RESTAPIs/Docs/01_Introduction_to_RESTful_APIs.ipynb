{
 "cells": [
  {
   "cell_type": "markdown",
   "metadata": {},
   "source": [
    "REST => REpresentational State Transfer\n",
    "\n",
    "Is an architecture style to build distributed systems one of the biggest with graphQL and grcp\n",
    "\n",
    "6 constraints or guiding principles\n",
    "- Uniform Interface => Clear define interface between client and server to evolve independentrly\n",
    "  => Identification of Resources\n",
    "  => Manipulation of resources through representations\n",
    "  => Self-descriptive messages\n",
    "  => Hypermedia as the engine of application state\n",
    "- Stateless => cannot rely on previous states\n",
    "- Cacheable => Ability to use caching of data and allow bypasses to the client\n",
    "- Client Server => Can evolve independently with contracts\n",
    "- Layered System => Client cannot know if its connecting directly to the server, load balancers, server distribution without the client knowing\n",
    "- Code on Demand (Optional)"
   ]
  },
  {
   "cell_type": "markdown",
   "metadata": {},
   "source": [
    "Resource Naming and Routing\n",
    "=> Naming => Models used\n",
    "=> Routing => GET /movies => use plural\n",
    "           => GET /movies/1\n",
    "           => GET /movies/1/ratings\n",
    "           => GET /ratings/me\n",
    "           => POST /movies/1/ratings\n",
    "           => DELETE /movies/1/ratings\n",
    "\n",
    "HTTP Verbs\n",
    "POST - Create\n",
    "GET - Retrieve => Safe does not change the results, other actions are not safe since they change the results\n",
    "PUT - Complete update/Full Update\n",
    "PATCH - Partial update => falling out of favour => use put everywhere\n",
    "DELETE - Delete\n",
    "\n"
   ]
  },
  {
   "cell_type": "markdown",
   "metadata": {},
   "source": [
    "HTTP Status codes are meaningful\n",
    "\n",
    "POST\n",
    "- Single Resource (/items/1): N/A\n",
    "- Collection Resource (/items) : 201 (Created with Location header), 202 (Accepted async requests that require)\n",
    "\n",
    "GET\n",
    "- Single Resource (/items/1): 200 (OK, item in body), 404 (Not Found, no body)\n",
    "- Collection Resource (/items) : 200 (OK, even when no item was found)\n",
    "\n",
    "PUT\n",
    "- Single Resource (/items/1): 200, 204 (Updated), 404\n",
    "- Collection Resource (/items) : 405 (Method not Allowed)\n",
    "\n",
    "DELETE\n",
    "- Single Resource (/items/1): 200, 404\n",
    "- Collection Resource (/items) : 405 (Method not Allowed)"
   ]
  },
  {
   "cell_type": "markdown",
   "metadata": {},
   "source": [
    "REST API response body\n",
    "Mostly used is JSON\n",
    "\n",
    "Json\n",
    "{\n",
    "    \"Name\" : \"Jonh Doe\"\n",
    "}\n",
    "\n",
    "Accept application/xml\n",
    "<xml>\n",
    "\n",
    "Idempotency => Result will always be same on the server\n",
    "\n",
    "POST - Not Idempotent\n",
    "GET - Idempotent\n",
    "PUT - Idempotent => Update will always do the same\n",
    "DELETE - Idempotent => Delete will delete or always trying to delete the same\n",
    "HEAD - Idempotent\n",
    "OPTIONS - Idempotent\n",
    "TRACE - Idempotent\n",
    "\n",
    "HATEOAS (Hypermedia as the engine of application state)\n",
    "=> endpoints can be linked in the body\n",
    "   => usually in the form of links to call endpoints\n",
    "   => not really used, and its falling out of favor"
   ]
  },
  {
   "cell_type": "markdown",
   "metadata": {},
   "source": [
    "Different type of errors\n",
    "Errors | Fault\n",
    "\n",
    "Errors = Invalid data => 400 => Bad Request => API is working fine\n",
    "\n",
    "Faults => API is bad => 500 => Request was valid but the server could not process it"
   ]
  }
 ],
 "metadata": {
  "language_info": {
   "name": "python"
  }
 },
 "nbformat": 4,
 "nbformat_minor": 2
}
