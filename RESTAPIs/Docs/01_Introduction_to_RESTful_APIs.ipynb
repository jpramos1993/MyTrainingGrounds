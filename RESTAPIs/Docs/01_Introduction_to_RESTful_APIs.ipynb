{
 "cells": [
  {
   "cell_type": "markdown",
   "metadata": {},
   "source": [
    "<center><h1><b>Introduction to RESTful APIs</b></h1></center>\n",
    "<hr>\n",
    "<hr>"
   ]
  },
  {
   "cell_type": "markdown",
   "metadata": {},
   "source": [
    "<center><h2>Getting Started</h2></center>\n",
    "<hr>"
   ]
  },
  {
   "cell_type": "markdown",
   "metadata": {},
   "source": [
    "<b>REST</b> stands for <b>RE</b>presentational <b>S</b>tate <b>T</b>ransfer and is an architectural style for building distributed systems. It is one of the most popular approaches along with GraphQL and gRPC"
   ]
  },
  {
   "cell_type": "markdown",
   "metadata": {},
   "source": [
    "<center><h2>Six Constraints or Guiding Principles of RESTful Architecture</h2></center>\n",
    "<hr>"
   ]
  },
  {
   "cell_type": "markdown",
   "metadata": {},
   "source": [
    "<ol>\n",
    "  <li>\n",
    "    <b>Uniform Interface</b>\n",
    "    <p>The interaction between client and server should be well-defined and consistent, allowing both to evolve independently. This principle ensures a standard way of communication across differente systems. It consists of several sub-principles:</p>\n",
    "    <ul>\n",
    "      <li><b>Identification of Resources:</b> Each resource should be uniquely identifiable via a URI (Uniform Resource Identifier)</li>\n",
    "      <li><b>Manipulation of Resources through Representations:</b> Clients interact with resources by using representations(e.g., JSON, XML) and appropriate HTTP methods (GET, POST, PUT, DELETE).</li>\n",
    "      <li><b>Self-Descriptive Messages:</b> Each Request contains enough information to be understood in isolation, using media types (MIME types) and standardized methods.</li>\n",
    "      <li><b>Hypermedia as the Engine of Application State (HATEOS):</b> Clients should navigate the application dynamically via hypermedia links embedded in responses, reducing hardcoded endpoints.</li>\n",
    "    </ul>\n",
    "  </li>\n",
    "  <li>\n",
    "    <b>Stateless</b>\n",
    "    <p>Each request from a client to the server must contain all the necessary information to undestrand and process it. The server does not store any session state between requests, making it scalable and reliable. If session persistence is needed, it should be managed on the client side (e.g., using tokens like JWT)</p>\n",
    "  </li>\n",
    "  <li>\n",
    "    <b>Cacheable</b>\n",
    "    <p>Responses should be explicitly marked as cacheable as non-cacheable to optimize performance. This allows clients and intermediaries(e.g., proxies, CDNs) to reuse previously retrieved data, reducing latency and server load. The caching strategy should also allow clients to bypass stale data when necessary</p>\n",
    "  </li>\n",
    "  <li>\n",
    "    <b>Client-Server Separation</b>\n",
    "    <p>The client and server are distinct entities that communicate via a standardized interface. This separation allows both components to evolve independently, as long as the API contract remains intact. The client is responsible for the user interface and experience, while the server manages business logic, data processing, and storage.</p>\n",
    "  </li>\n",
    "  <li>\n",
    "    <b>Layered System</b>\n",
    "    <p>A client should not be able to distinguish whether it is communicating directly with the server or through intermediaries such as load balancers, proxies, or gateways. This abstraction enables scalability, security (e.g., firewalls, authentication layers), and flexibility in system architecture.</p>\n",
    "  </li>\n",
    "  <li>\n",
    "    <b>Code on Demand (Optional)</b>\n",
    "    <p>Although not a mandatory constraint, REST allows servers to extend client functionality by sending executable code (e.g., JavaScript, applets). This can be useful for dynamic behaviors, but it reduces visibility and may introduce security concerns</p>\n",
    "  </li>\n",
    "</ol>\n"
   ]
  },
  {
   "cell_type": "markdown",
   "metadata": {},
   "source": [
    "<center><h2>Idempotency</h2></center>\n",
    "<hr>"
   ]
  },
  {
   "cell_type": "markdown",
   "metadata": {},
   "source": [
    "<b>Idempotency</b> is a property of certain HTTP methods that ensures multiple identical requests produce the same result as a single request. This is crucial for building reliable and predictable APIs, especially in distributed systems.\n",
    "\n",
    "<b>Key Concept</b>\n",
    "<ol>\n",
    "    <li>If a request is idempotent, sending it onde, twice, or multiple times has the same effect on the server as sending it once</li>\n",
    "    <li>This prevents unintended side effects from duplicate requests(e.g., due to network retries or client errors)</li>\n",
    "</ol>\n",
    "\n",
    "<b>Why Idempotency Matters</b>\n",
    "<ul>\n",
    "    <li><b>Reliability in Distributed Systems:</b> Prevents accidental duplication of actions (e.g., due to network retries).</li>\n",
    "    <li><b>Consistency in API Behavior:</b> Clients can safely retry requests without unintended consequences</li>\n",
    "    <li><b>Easier Debugging & Fault Tolerance:</b> Knowing that repeated requests won't cause issues simplifies error handling.</li>\n",
    "</ul>"
   ]
  },
  {
   "cell_type": "markdown",
   "metadata": {},
   "source": [
    "<center><h2>HATEOAS (Hypermedia as the Engine of Application State)</h2></center>\n",
    "<hr>"
   ]
  },
  {
   "cell_type": "markdown",
   "metadata": {},
   "source": [
    "<b>HATEOAS</b> is a RESTful API principle that allows clients to dynamically navigate resources through hypermedia links provided in responses. Instead of hardcoding API endpoints, clients discover actions they can take based on links embedded within responses.\n",
    "This makes REST APIs more self-descriptive and reduces client-server coupling, allowing APIs to evolve without breaking existing clients.\n",
    "\n",
    "<b>Key Concept</b>\n",
    "<p>A client should not need prior knowledge of API structure beyond the entry point. The API itself should guide the client by returning hyperlinks to related actions and resources</p>\n",
    "<p>Without HATEOAS, clients must manually construct URLs, which makes APIs more rigid and harder to update.</p>\n",
    "\n",
    "Example without HATEOS:\n",
    "``` JSON\n",
    "{\n",
    "  \"id\": 1,\n",
    "  \"title\": \"Inception\",\n",
    "  \"year\": 2010\n",
    "}\n",
    "```\n",
    "Example with HATEOS:\n",
    "``` JSON\n",
    "{\n",
    "  \"id\": 1,\n",
    "  \"title\": \"Inception\",\n",
    "  \"year\": 2010,\n",
    "  \"_links\": {\n",
    "    \"self\": { \"href\": \"/movies/1\" },\n",
    "    \"ratings\": { \"href\": \"/movies/1/ratings\" },\n",
    "    \"director\": { \"href\": \"/movies/1/director\" },\n",
    "    \"add_rating\": { \"href\": \"/movies/1/ratings\", \"method\": \"POST\" }\n",
    "  }\n",
    "}\n",
    "```"
   ]
  },
  {
   "cell_type": "markdown",
   "metadata": {},
   "source": [
    "<center><h2>Resource Naming, Routing, and HTTP Verbs</h2></center>\n",
    "<hr>"
   ]
  },
  {
   "cell_type": "markdown",
   "metadata": {},
   "source": [
    "<h3>Resource Naming and Routing</h3>\n",
    "<p>Proper resource naming and routing conventions improve API clarity, consistency, and usability.</p>\n",
    "<ul>\n",
    "    <li>\n",
    "        <b>Naming Conventions</b>\n",
    "        <ul>\n",
    "            <li>Resource names should be nouns, representing entities(e.g., movies, users, ratings)</li>\n",
    "            <li>Use <b>plural</b> names for collections to maintain consistency (e.g., /movies instead of /movie)</li>\n",
    "            <li>Keep names <b>simple and meaningful</b>, avoiding verbs (actions are determined by HTTP methods)</li>\n",
    "        </ul>\n",
    "    </li>\n",
    "    <li>\n",
    "        <b>Routing Patterns</b>\n",
    "        <p>A well-structured API follows predictable URL patterns for resource access:</p>\n",
    "        <ul>\n",
    "            <li><b>Retrieve a list of resources:</b> GET /movies (fetch all movies)</li>\n",
    "            <li><b>Retrieve a specific resource:</b> GET /movies/1 (fetch movie with ID 1)</li>\n",
    "            <li><b>Access related resources:</b> GET /movies/1/ratings (fetch ratings for movie 1)</li>\n",
    "            <li><b>Access user-specific resources:</b> GET /ratings/me (fetch the authenticated user's ratings)</li>\n",
    "            <li><b>Create a new resource:</b> POST /movies/1/ratings (add a rating for movie 1)</li>\n",
    "            <li><b>Delete a resource:</b> DELETE /movies/1/ratings (remove a rating for movie 1)</li>                         \n",
    "        </ul>\n",
    "    </li>\n",
    "</ul>"
   ]
  },
  {
   "cell_type": "markdown",
   "metadata": {},
   "source": [
    "<h3>HTTP Verbs and Their Usage</h3>\n",
    "<p>HTTP methods define the intended operation on resources and should be used according to RESTful best practices</p>\n",
    "\n",
    "<ol>\n",
    "    <li>\n",
    "        <b>POST</b>(Create)\n",
    "        <ul>\n",
    "            <li>Used to create new resources</li>\n",
    "            <li>Typically returns, with a location header pointing to the new resource:\n",
    "                <ul>\n",
    "                    <li><b>201 Created</b> </li>\n",
    "                    <li><b>202 Accepted Async</b></li>\n",
    "                </ul>\n",
    "            </li>\n",
    "            <li>Collection Resource (/items) and Single Resource (items/1) is not applied\n",
    "            <li>Example: POST /movies to add a new movie</li>\n",
    "        </ul>\n",
    "    </li>\n",
    "    <li>\n",
    "        <b>GET</b>(Retrieve)\n",
    "        <ul>\n",
    "            <li>Fetches data without modifying it.</li>\n",
    "            <li><b>Safe:</b> Does not change resource state.</li>\n",
    "            <li><b>Idempotent:</b> Repeated calls return the same result (unless the resource changes externally).</li>\n",
    "            <li>Collection Resource (/items) returns 200 Ok item in body, even when no item was found</li>\n",
    "            <li>Single Resource (/items/1) returns 200 Ok item in body and 404 Not Found no body</li>\n",
    "            <li>Example: GET /movies/1 retrieves details of movie 1</li>\n",
    "        </ul>\n",
    "    </li>\n",
    "    <li>\n",
    "        <b>PUT</b>(Full Update)\n",
    "        <ul>\n",
    "            <li>Replaces the entire resource with new data</li>\n",
    "            <li><b>Idempotent:</b> Multiple identical requests result in the same state</li>\n",
    "            <li>Collection Resource (/items) returns 405 Method not allowed</li>\n",
    "            <li>Single Resource (/items/1) returns 200, 204 Updated, or 404 Not Found</li>\n",
    "            <li>Example: PUT /movies/1 updates all attributes of movie 1</li>\n",
    "        </ul>\n",
    "    </li>\n",
    "    <li>\n",
    "        <b>Patch</b>(Partial Update)\n",
    "        <ul>\n",
    "            <li>Updates only specified fields of a resource</li>\n",
    "            <li><b>Less commonly used</b> due to incosistent support across systems; <b>some prefer using PUT for all updates</b></li>\n",
    "            <li>Collection Resource (/items) returns 405 Method not allowed</li>\n",
    "            <li>Single Resource (/items/1) returns 200, 204 Updated, or 404 Not Found</li>\n",
    "            <li>Example: PATCH /movies/1 modifies only a subset of fields</li>\n",
    "        </ul>\n",
    "    </li>\n",
    "    <li>\n",
    "        <b>DELETE</b>(Delete)\n",
    "        <ul>\n",
    "            <li>Removes a resource</li>\n",
    "            <li><b>Idempotent:</b> Deleting an already deleted resource results in the same state..</li>\n",
    "            <li>Collection Resource (/items) returns 405 Method not allowed</li>\n",
    "            <li>Single Resource (/items/1) returns 200, or 404 Not Found</li>\n",
    "            <li>Example: DELETE /movies/1 removes movie 1 from the database</li>\n",
    "        </ul>\n",
    "    </li>\n",
    "</ol>"
   ]
  },
  {
   "cell_type": "markdown",
   "metadata": {},
   "source": [
    "<center><h2>Responses in REST APIs</h2></center>\n",
    "<hr>"
   ]
  },
  {
   "cell_type": "markdown",
   "metadata": {},
   "source": [
    "In RESTful APIs, the response format plays a crucial role in how clients interpret and process data. The most commonly ysed response formats are JSON and XML. Each has its advantages and use cases, and APIs should be designed to support appropriate response formats based on client needs\n",
    "\n",
    "<b>JSON (JavaScript Object Notation)</b>\n",
    "<p>JSON is the most widely used response format due to its simplicity, readability, and compatibility with modern web applications. It is lightweight, easy to parse, and works well with JavaScript-based clients</p>\n",
    "\n",
    "<b>application/json</b>\n",
    "\n",
    "<p>Advantages of JSON</p>\n",
    "<ul>\n",
    "    <li>Human-readable and lightweight</li>\n",
    "    <li>Natively supported in JavaScript</li>\n",
    "    <li>Easier to parse compared to XML</li>\n",
    "</ul>\n",
    "\n",
    "<b>XML (eXtensible Markup Language)</b>\n",
    "<p>XML was traditionally used for data exchange but is now less common in modern REST APIs. However, it is still used in legacy systems, enterprise applications, and SOAP-based APIs</p>\n",
    "\n",
    "<b>application/xml</b>\n",
    "\n",
    "<p>Advantages of XML</p>\n",
    "<ul>\n",
    "    <li>Supports complex, hierarchical data.</li>\n",
    "    <li>Used in enterprise systems and SOAP-based web services.</li>\n",
    "    <li>Offers strong validation mechanisms (DTD, XSD)</li>\n",
    "</ul>\n",
    "\n",
    "<p>disadvantages of XML</p>\n",
    "<ul>\n",
    "    <li>Verbose compared to JSON.</li>\n",
    "    <li>More difficult to parse in modern web applications.</li>\n",
    "</ul>"
   ]
  },
  {
   "cell_type": "markdown",
   "metadata": {},
   "source": [
    "Different type of errors\n",
    "Errors | Fault\n",
    "\n",
    "Errors = Invalid data => 400 => Bad Request => API is working fine\n",
    "\n",
    "Faults => API is bad => 500 => Request was valid but the server could not process it"
   ]
  },
  {
   "cell_type": "markdown",
   "metadata": {},
   "source": [
    "ACID"
   ]
  }
 ],
 "metadata": {
  "language_info": {
   "name": "python"
  }
 },
 "nbformat": 4,
 "nbformat_minor": 2
}
