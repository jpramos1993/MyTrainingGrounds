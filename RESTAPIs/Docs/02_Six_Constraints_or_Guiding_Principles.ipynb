{
 "cells": [
  {
   "cell_type": "markdown",
   "metadata": {},
   "source": [
    "<center><h1>Six Constraints or Guiding Principles of RESTful Architecture</h1></center>\n",
    "<hr>\n",
    "<hr>"
   ]
  },
  {
   "cell_type": "markdown",
   "metadata": {},
   "source": [
    "<ol>\n",
    "  <li>\n",
    "    <b>Uniform Interface</b>\n",
    "    <p>The interaction between client and server should be well-defined and consistent, allowing both to evolve independently. This principle ensures a standard way of communication across differente systems. It consists of several sub-principles:</p>\n",
    "    <ul>\n",
    "      <li><b>Identification of Resources:</b> Each resource should be uniquely identifiable via a URI (Uniform Resource Identifier)</li>\n",
    "      <li><b>Manipulation of Resources through Representations:</b> Clients interact with resources by using representations(e.g., JSON, XML) and appropriate HTTP methods (GET, POST, PUT, DELETE).</li>\n",
    "      <li><b>Self-Descriptive Messages:</b> Each Request contains enough information to be understood in isolation, using media types (MIME types) and standardized methods.</li>\n",
    "      <li><b>Hypermedia as the Engine of Application State (HATEOS):</b> Clients should navigate the application dynamically via hypermedia links embedded in responses, reducing hardcoded endpoints.</li>\n",
    "    </ul>\n",
    "  </li>\n",
    "  <li>\n",
    "    <b>Stateless</b>\n",
    "    <p>Each request from a client to the server must contain all the necessary information to undestrand and process it. The server does not store any session state between requests, making it scalable and reliable. If session persistence is needed, it should be managed on the client side (e.g., using tokens like JWT)</p>\n",
    "  </li>\n",
    "  <li>\n",
    "    <b>Cacheable</b>\n",
    "    <p>Responses should be explicitly marked as cacheable as non-cacheable to optimize performance. This allows clients and intermediaries(e.g., proxies, CDNs) to reuse previously retrieved data, reducing latency and server load. The caching strategy should also allow clients to bypass stale data when necessary</p>\n",
    "  </li>\n",
    "  <li>\n",
    "    <b>Client-Server Separation</b>\n",
    "    <p>The client and server are distinct entities that communicate via a standardized interface. This separation allows both components to evolve independently, as long as the API contract remains intact. The client is responsible for the user interface and experience, while the server manages business logic, data processing, and storage.</p>\n",
    "  </li>\n",
    "  <li>\n",
    "    <b>Layered System</b>\n",
    "    <p>A client should not be able to distinguish whether it is communicating directly with the server or through intermediaries such as load balancers, proxies, or gateways. This abstraction enables scalability, security (e.g., firewalls, authentication layers), and flexibility in system architecture.</p>\n",
    "  </li>\n",
    "  <li>\n",
    "    <b>Code on Demand (Optional)</b>\n",
    "    <p>Although not a mandatory constraint, REST allows servers to extend client functionality by sending executable code (e.g., JavaScript, applets). This can be useful for dynamic behaviors, but it reduces visibility and may introduce security concerns</p>\n",
    "  </li>\n",
    "</ol>\n"
   ]
  }
 ],
 "metadata": {
  "language_info": {
   "name": "python"
  }
 },
 "nbformat": 4,
 "nbformat_minor": 2
}
