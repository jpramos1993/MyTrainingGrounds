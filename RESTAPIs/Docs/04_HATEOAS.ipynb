{
 "cells": [
  {
   "cell_type": "markdown",
   "metadata": {},
   "source": [
    "<center><h1>HATEOAS (Hypermedia as the Engine of Application State)</h1></center>\n",
    "<hr>\n",
    "<hr>"
   ]
  },
  {
   "cell_type": "markdown",
   "metadata": {},
   "source": [
    "<b>HATEOAS</b> is a RESTful API principle that allows clients to dynamically navigate resources through hypermedia links provided in responses. Instead of hardcoding API endpoints, clients discover actions they can take based on links embedded within responses.\n",
    "This makes REST APIs more self-descriptive and reduces client-server coupling, allowing APIs to evolve without breaking existing clients.\n",
    "\n",
    "<b>Key Concept</b>\n",
    "<p>A client should not need prior knowledge of API structure beyond the entry point. The API itself should guide the client by returning hyperlinks to related actions and resources</p>\n",
    "<p>Without HATEOAS, clients must manually construct URLs, which makes APIs more rigid and harder to update.</p>\n",
    "\n",
    "Example without HATEOS:\n",
    "``` JSON\n",
    "{\n",
    "  \"id\": 1,\n",
    "  \"title\": \"Inception\",\n",
    "  \"year\": 2010\n",
    "}\n",
    "```\n",
    "Example with HATEOS:\n",
    "``` JSON\n",
    "{\n",
    "  \"id\": 1,\n",
    "  \"title\": \"Inception\",\n",
    "  \"year\": 2010,\n",
    "  \"_links\": {\n",
    "    \"self\": { \"href\": \"/movies/1\" },\n",
    "    \"ratings\": { \"href\": \"/movies/1/ratings\" },\n",
    "    \"director\": { \"href\": \"/movies/1/director\" },\n",
    "    \"add_rating\": { \"href\": \"/movies/1/ratings\", \"method\": \"POST\" }\n",
    "  }\n",
    "}\n",
    "```"
   ]
  }
 ],
 "metadata": {
  "language_info": {
   "name": "python"
  }
 },
 "nbformat": 4,
 "nbformat_minor": 2
}
