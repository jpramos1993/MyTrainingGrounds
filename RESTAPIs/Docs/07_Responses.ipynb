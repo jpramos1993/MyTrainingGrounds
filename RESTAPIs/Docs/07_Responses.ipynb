{
 "cells": [
  {
   "cell_type": "markdown",
   "metadata": {},
   "source": [
    "<center><h1>Responses in REST APIs</h1></center>\n",
    "<hr>\n",
    "<hr>"
   ]
  },
  {
   "cell_type": "markdown",
   "metadata": {},
   "source": [
    "In RESTful APIs, the response format plays a crucial role in how clients interpret and process data. The most commonly ysed response formats are JSON and XML. Each has its advantages and use cases, and APIs should be designed to support appropriate response formats based on client needs\n",
    "\n",
    "<b>JSON (JavaScript Object Notation)</b>\n",
    "<p>JSON is the most widely used response format due to its simplicity, readability, and compatibility with modern web applications. It is lightweight, easy to parse, and works well with JavaScript-based clients</p>\n",
    "\n",
    "<b>application/json</b>\n",
    "\n",
    "<p>Advantages of JSON</p>\n",
    "<ul>\n",
    "    <li>Human-readable and lightweight</li>\n",
    "    <li>Natively supported in JavaScript</li>\n",
    "    <li>Easier to parse compared to XML</li>\n",
    "</ul>\n",
    "\n",
    "<b>XML (eXtensible Markup Language)</b>\n",
    "<p>XML was traditionally used for data exchange but is now less common in modern REST APIs. However, it is still used in legacy systems, enterprise applications, and SOAP-based APIs</p>\n",
    "\n",
    "<b>application/xml</b>\n",
    "\n",
    "<p>Advantages of XML</p>\n",
    "<ul>\n",
    "    <li>Supports complex, hierarchical data.</li>\n",
    "    <li>Used in enterprise systems and SOAP-based web services.</li>\n",
    "    <li>Offers strong validation mechanisms (DTD, XSD)</li>\n",
    "</ul>\n",
    "\n",
    "<p>Disadvantages of XML</p>\n",
    "<ul>\n",
    "    <li>Verbose compared to JSON.</li>\n",
    "    <li>More difficult to parse in modern web applications.</li>\n",
    "</ul>"
   ]
  },
  {
   "cell_type": "markdown",
   "metadata": {},
   "source": [
    "In authorization the 401 Not Authentication => Means not Authenticated and 403 Forbidden => Mean authentication is performed but you have no authorization"
   ]
  }
 ],
 "metadata": {
  "language_info": {
   "name": "python"
  }
 },
 "nbformat": 4,
 "nbformat_minor": 2
}
