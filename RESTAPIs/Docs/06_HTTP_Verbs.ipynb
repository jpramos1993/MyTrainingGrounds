{
 "cells": [
  {
   "cell_type": "markdown",
   "metadata": {},
   "source": [
    "<center><h1>HTTP Verbs</h1></center>\n",
    "<hr>\n",
    "<hr>"
   ]
  },
  {
   "cell_type": "markdown",
   "metadata": {},
   "source": [
    "<p>HTTP methods define the intended operation on resources and should be used according to RESTful best practices</p>\n",
    "\n",
    "<ol>\n",
    "    <li>\n",
    "        <b>POST</b>(Create)\n",
    "        <ul>\n",
    "            <li>Used to create new resources</li>\n",
    "            <li>Typically returns, with a location header pointing to the new resource:\n",
    "                <ul>\n",
    "                    <li><b>201 Created</b> </li>\n",
    "                    <li><b>202 Accepted Async</b></li>\n",
    "                </ul>\n",
    "            </li>\n",
    "            <li>Collection Resource (/items) and Single Resource (items/1) is not applied\n",
    "            <li>Example: POST /movies to add a new movie</li>\n",
    "        </ul>\n",
    "    </li>\n",
    "    <li>\n",
    "        <b>GET</b>(Retrieve)\n",
    "        <ul>\n",
    "            <li>Fetches data without modifying it.</li>\n",
    "            <li><b>Safe:</b> Does not change resource state.</li>\n",
    "            <li><b>Idempotent:</b> Repeated calls return the same result (unless the resource changes externally).</li>\n",
    "            <li>Collection Resource (/items) returns 200 Ok item in body, even when no item was found</li>\n",
    "            <li>Single Resource (/items/1) returns 200 Ok item in body and 404 Not Found no body</li>\n",
    "            <li>Example: GET /movies/1 retrieves details of movie 1</li>\n",
    "        </ul>\n",
    "    </li>\n",
    "    <li>\n",
    "        <b>PUT</b>(Full Update)\n",
    "        <ul>\n",
    "            <li>Replaces the entire resource with new data</li>\n",
    "            <li><b>Idempotent:</b> Multiple identical requests result in the same state</li>\n",
    "            <li>Collection Resource (/items) returns 405 Method not allowed</li>\n",
    "            <li>Single Resource (/items/1) returns 200, 204 Updated, or 404 Not Found</li>\n",
    "            <li>Example: PUT /movies/1 updates all attributes of movie 1</li>\n",
    "        </ul>\n",
    "    </li>\n",
    "    <li>\n",
    "        <b>Patch</b>(Partial Update)\n",
    "        <ul>\n",
    "            <li>Updates only specified fields of a resource</li>\n",
    "            <li><b>Less commonly used</b> due to incosistent support across systems; <b>some prefer using PUT for all updates</b></li>\n",
    "            <li>Collection Resource (/items) returns 405 Method not allowed</li>\n",
    "            <li>Single Resource (/items/1) returns 200, 204 Updated, or 404 Not Found</li>\n",
    "            <li>Example: PATCH /movies/1 modifies only a subset of fields</li>\n",
    "        </ul>\n",
    "    </li>\n",
    "    <li>\n",
    "        <b>DELETE</b>(Delete)\n",
    "        <ul>\n",
    "            <li>Removes a resource</li>\n",
    "            <li><b>Idempotent:</b> Deleting an already deleted resource results in the same state..</li>\n",
    "            <li>Collection Resource (/items) returns 405 Method not allowed</li>\n",
    "            <li>Single Resource (/items/1) returns 200, or 404 Not Found</li>\n",
    "            <li>Example: DELETE /movies/1 removes movie 1 from the database</li>\n",
    "        </ul>\n",
    "    </li>\n",
    "</ol>"
   ]
  }
 ],
 "metadata": {
  "language_info": {
   "name": "python"
  }
 },
 "nbformat": 4,
 "nbformat_minor": 2
}
