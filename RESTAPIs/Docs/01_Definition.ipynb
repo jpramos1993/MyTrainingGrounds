{
 "cells": [
  {
   "cell_type": "markdown",
   "metadata": {
    "vscode": {
     "languageId": "plaintext"
    }
   },
   "source": [
    "<center><h1><b>Definition</b></h1></center>\n",
    "<hr>\n",
    "<hr>"
   ]
  },
  {
   "cell_type": "markdown",
   "metadata": {},
   "source": [
    "<b>REST</b> stands for <b>RE</b>presentational <b>S</b>tate <b>T</b>ransfer and is an architectural style for building distributed systems. It is one of the most popular approaches along with GraphQL and gRPC"
   ]
  }
 ],
 "metadata": {
  "language_info": {
   "name": "python"
  }
 },
 "nbformat": 4,
 "nbformat_minor": 2
}
